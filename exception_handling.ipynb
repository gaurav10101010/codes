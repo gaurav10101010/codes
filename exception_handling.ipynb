{
 "cells": [
  {
   "cell_type": "markdown",
   "metadata": {},
   "source": [
    "<h2> EXCEPTION HANDLING"
   ]
  },
  {
   "cell_type": "code",
   "execution_count": null,
   "metadata": {},
   "outputs": [],
   "source": [
    "name = input('Plz enter your name : ') \n",
    "print(name)\n",
    "age = int(input('Plz enter your age')) # 20\n",
    "print(\"my name is:\",name,\"and my age is:\",age)\n",
    "\n",
    "print(\"imp line1\")\n",
    "print(\"imp line2\")\n",
    "print(\"imp line3\")\n",
    "print(\"imp line4\")\n",
    "print(\"imp line5\")\n",
    "print(\"imp line6\")"
   ]
  },
  {
   "cell_type": "code",
   "execution_count": null,
   "metadata": {},
   "outputs": [],
   "source": [
    "#try,#except,#else,#finally"
   ]
  },
  {
   "cell_type": "code",
   "execution_count": null,
   "metadata": {},
   "outputs": [],
   "source": [
    "try:\n",
    "    name = input('Plz enter your name : ') \n",
    "    print(name)\n",
    "    age = int(input('Plz enter your age')) # 20\n",
    "    print(\"my name is:\",name,\"and my age is:\",age)\n",
    "\n",
    "except:\n",
    "    print(\"error occured\")\n",
    "\n",
    "else:\n",
    "    print(\"error not occured\")\n",
    "\n",
    "print(\"imp line1\")\n",
    "print(\"imp line2\")\n",
    "print(\"imp line3\")\n",
    "print(\"imp line4\")\n",
    "print(\"imp line5\")\n",
    "print(\"imp line6\")"
   ]
  },
  {
   "cell_type": "code",
   "execution_count": null,
   "metadata": {},
   "outputs": [],
   "source": [
    "try:\n",
    "    num1=int(input(\"enter first number\"))\n",
    "    num2=int(input(\"enter second number\"))\n",
    "    result=num1/num2\n",
    "    print(result)\n",
    "\n",
    "except:\n",
    "    if num2==0:\n",
    "        print(\"not defined\")\n",
    "\n",
    "else:\n",
    "    print(\"num2 is not 0\")\n",
    "\n",
    "finally:\n",
    "    print(\"division operation successfull\")\n"
   ]
  },
  {
   "cell_type": "code",
   "execution_count": null,
   "metadata": {},
   "outputs": [],
   "source": []
  }
 ],
 "metadata": {
  "kernelspec": {
   "display_name": "Python 3",
   "language": "python",
   "name": "python3"
  },
  "language_info": {
   "codemirror_mode": {
    "name": "ipython",
    "version": 3
   },
   "file_extension": ".py",
   "mimetype": "text/x-python",
   "name": "python",
   "nbconvert_exporter": "python",
   "pygments_lexer": "ipython3",
   "version": "3.12.4"
  }
 },
 "nbformat": 4,
 "nbformat_minor": 2
}

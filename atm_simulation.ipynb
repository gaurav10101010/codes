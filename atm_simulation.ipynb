{
 "cells": [
  {
   "cell_type": "code",
   "execution_count": 19,
   "metadata": {},
   "outputs": [
    {
     "name": "stdout",
     "output_type": "stream",
     "text": [
      "\n",
      "welcome to the virtual bank\n",
      "\n",
      "enter your action\n",
      "1--->balance check\n",
      "2--->deposit\n",
      "3--->withdraw\n",
      "\n",
      "you have successfully deposited your amount\n"
     ]
    }
   ],
   "source": [
    "message=\"\"\"\n",
    "welcome to the virtual bank\n",
    "\n",
    "enter your action\n",
    "1--->balance check\n",
    "2--->deposit\n",
    "3--->withdraw\n",
    "\"\"\"\n",
    "print(message)\n",
    "avail_amount=10000\n",
    "\n",
    "task=int(input(\"enter your choice\"))\n",
    "if task  in range(1,4):\n",
    "    if task==1:\n",
    "        print(\"your available balance is\",avail_amount)\n",
    "    \n",
    "    elif task==2:\n",
    "        deposit_amt=int(input(\"enter amount for deposit\"))\n",
    "        if deposit_amt>0:\n",
    "            avail_amount+=deposit_amt\n",
    "            print(\"you have successfully deposited your amount\")\n",
    "        else:\n",
    "            print(\"enter valid deposit amount\")\n",
    "    elif task==3:\n",
    "        with_amt=int(input(\"enter amount you want to withdraw\"))\n",
    "        if avail_amount>=with_amt:\n",
    "            avail_amount-=with_amt\n",
    "            print(\"withdraw successfull\")\n",
    "            print(\"available balance is\",avail_amount)\n",
    "        else:\n",
    "            print(\"you cannot withdraw amount more than your avail balance\")\n",
    "\n",
    "\n",
    "\n",
    "\n"
   ]
  },
  {
   "cell_type": "code",
   "execution_count": null,
   "metadata": {},
   "outputs": [],
   "source": []
  },
  {
   "cell_type": "code",
   "execution_count": null,
   "metadata": {},
   "outputs": [],
   "source": []
  }
 ],
 "metadata": {
  "kernelspec": {
   "display_name": "Python 3",
   "language": "python",
   "name": "python3"
  },
  "language_info": {
   "codemirror_mode": {
    "name": "ipython",
    "version": 3
   },
   "file_extension": ".py",
   "mimetype": "text/x-python",
   "name": "python",
   "nbconvert_exporter": "python",
   "pygments_lexer": "ipython3",
   "version": "3.12.4"
  }
 },
 "nbformat": 4,
 "nbformat_minor": 2
}
